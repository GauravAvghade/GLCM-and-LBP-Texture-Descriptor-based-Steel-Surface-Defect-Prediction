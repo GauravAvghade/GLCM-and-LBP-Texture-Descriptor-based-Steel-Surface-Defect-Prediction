{
 "cells": [
  {
   "cell_type": "markdown",
   "id": "b470da5d-db45-4578-a0b4-b2f6d809b96b",
   "metadata": {},
   "source": [
    "# Model Traning and Validation"
   ]
  },
  {
   "cell_type": "markdown",
   "id": "e853e2c2-e493-4c7b-b27f-e69e96a0a5d1",
   "metadata": {},
   "source": [
    "Libraries and Modules"
   ]
  },
  {
   "cell_type": "code",
   "execution_count": null,
   "id": "b6276169-cba2-4c50-9e55-c674ae379585",
   "metadata": {},
   "outputs": [],
   "source": [
    "import pandas as pd\n",
    "from sklearn.model_selection import cross_val_score, train_test_split, StratifiedKFold\n",
    "from sklearn.ensemble import RandomForestClassifier\n",
    "from sklearn.metrics import classification_report\n",
    "import joblib"
   ]
  },
  {
   "cell_type": "markdown",
   "id": "7cf52e0c-f043-4cfb-8e41-b40e7f15ee5c",
   "metadata": {},
   "source": [
    "The Random Forest model utilizes extracted features saved in .csv files for testing and training. It also employs k-fold cross-validation techniques to validate the model and saves the model in a .pkl file. Check for grammatical mistakes."
   ]
  },
  {
   "cell_type": "code",
   "execution_count": null,
   "id": "ba968b2e-e3ea-4078-81f2-38fb10e86281",
   "metadata": {},
   "outputs": [],
   "source": [
    "import pandas as pd\n",
    "from sklearn.model_selection import cross_val_score, train_test_split, StratifiedKFold\n",
    "from sklearn.ensemble import RandomForestClassifier\n",
    "from sklearn.metrics import classification_report\n",
    "import joblib\n",
    "\n",
    "# Load the preprocessed data from the CSV file\n",
    "df = pd.read_csv('lbp_and_glcm_features.csv')\n",
    "\n",
    "# Split the dataset into features (X) and target labels (y)\n",
    "X = df.drop('Defect', axis=1)\n",
    "y = df['Defect']\n",
    "\n",
    "# Initialize the Random Forest classifier\n",
    "clf = RandomForestClassifier(n_estimators=100, random_state=42)\n",
    "\n",
    "# Perform K-Fold cross-validation and save models\n",
    "cv_scores = cross_val_score(clf, X, y, cv=5)  \n",
    "print(f\"Cross-Validation Mean Accuracy: {cv_scores.mean():.2f} (+/- {cv_scores.std() * 2:.2f})\")\n",
    "\n",
    "# Optionally, train the model on the full dataset\n",
    "clf.fit(X, y)\n",
    "\n",
    "# Save the trained model to a file\n",
    "joblib.dump(clf, 'random_forest_model.pkl')\n",
    "\n",
    "# Optionally, evaluate the model on the test data\n",
    "X_train, X_test, y_train, y_test = train_test_split(X, y, test_size=0.2, random_state=42)\n",
    "accuracy = clf.score(X_test, y_test)\n",
    "print(f\"Accuracy on Test Data: {accuracy:.2f}\")\n",
    "\n",
    "# Generate a classification report for each fold\n",
    "for fold, (train_idx, test_idx) in enumerate(StratifiedKFold(n_splits=5, shuffle=True, random_state=42).split(X, y)):\n",
    "    X_train, y_train = X.iloc[train_idx], y.iloc[train_idx]\n",
    "    X_test, y_test = X.iloc[test_idx], y.iloc[test_idx]\n",
    "    \n",
    "    clf.fit(X_train, y_train)\n",
    "    y_pred = clf.predict(X_test)\n",
    "    \n",
    "    report = classification_report(y_test, y_pred)\n",
    "    print(f\"Classification Report for Fold {fold + 1}:\\n{report}\\n\")\n"
   ]
  }
 ],
 "metadata": {
  "kernelspec": {
   "display_name": "Python 3 (ipykernel)",
   "language": "python",
   "name": "python3"
  },
  "language_info": {
   "codemirror_mode": {
    "name": "ipython",
    "version": 3
   },
   "file_extension": ".py",
   "mimetype": "text/x-python",
   "name": "python",
   "nbconvert_exporter": "python",
   "pygments_lexer": "ipython3",
   "version": "3.12.1"
  }
 },
 "nbformat": 4,
 "nbformat_minor": 5
}
