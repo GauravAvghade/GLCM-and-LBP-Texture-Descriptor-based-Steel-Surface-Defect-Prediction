{
 "cells": [
  {
   "cell_type": "markdown",
   "id": "9a5e0d18-f2cd-44b5-b053-408cca335c12",
   "metadata": {},
   "source": [
    "# Steel Surface Defect Classification Using LBP and GLCM"
   ]
  },
  {
   "cell_type": "markdown",
   "id": "1e041309-a823-4462-b175-5a3600ff8711",
   "metadata": {},
   "source": [
    "# Libraries and Modules"
   ]
  },
  {
   "cell_type": "code",
   "execution_count": null,
   "id": "fe921557-d1e3-4a5e-9ab0-973d7fde2387",
   "metadata": {},
   "outputs": [],
   "source": [
    "import os\n",
    "import cv2\n",
    "import numpy as np\n",
    "import pandas as pd\n",
    "import matplotlib.pyplot as plt\n",
    "import xml.etree.ElementTree as ET\n",
    "import matplotlib.patches as patches\n",
    "\n",
    "from skimage import io, color, img_as_ubyte\n",
    "from skimage.feature import local_binary_pattern, graycomatrix, graycoprops\n",
    "\n",
    "from sklearn.model_selection import cross_val_score, train_test_split, StratifiedKFold\n",
    "from sklearn.ensemble import RandomForestClassifier\n",
    "from sklearn.metrics import classification_report"
   ]
  },
  {
   "cell_type": "markdown",
   "id": "b0301a0d-805d-4e38-910d-43b5a92eb6ba",
   "metadata": {},
   "source": [
    "# Data Augmentation"
   ]
  },
  {
   "cell_type": "markdown",
   "id": "9cfcb431-b3b1-4895-8eca-b87af97c3a9c",
   "metadata": {},
   "source": [
    "Creating a new augmented dataset focused on regions of interest using data augmentation techniques and automatically saving it to files named according to the \"defect_categories\" list"
   ]
  },
  {
   "cell_type": "code",
   "execution_count": 3,
   "id": "7f6cd087-4c03-41d6-bf7e-45117a871da6",
   "metadata": {},
   "outputs": [],
   "source": [
    "\n",
    "# Define a list of defect categories\n",
    "defect_categories = [\n",
    "# mention defects List \n",
    "]\n",
    "\n",
    "# Iterate through each defect category\n",
    "for category in defect_categories:\n",
    "    # Path to the 'Images' folder and 'Labels' folder for the current defect category\n",
    "    images_folder = f'{category}_Images'\n",
    "    labels_folder = f'{category}_Labels'\n",
    "    \n",
    "    # Create a folder for data augmentation if it doesn't exist\n",
    "    data_aug_folder = category\n",
    "    if not os.path.exists(data_aug_folder):\n",
    "        os.makedirs(data_aug_folder)\n",
    "    \n",
    "    # Iterate through all image files in the 'Images' folder\n",
    "    for image_filename in os.listdir(images_folder):\n",
    "        if image_filename.endswith('.jpg'):\n",
    "            # Load the image\n",
    "            image_path = os.path.join(images_folder, image_filename)\n",
    "            image = cv2.imread(image_path, cv2.IMREAD_COLOR)\n",
    "\n",
    "            # Find the corresponding XML file\n",
    "            xml_filename = os.path.splitext(image_filename)[0] + '.xml'\n",
    "            xml_path = os.path.join(labels_folder, xml_filename)\n",
    "\n",
    "            # Parse the XML file\n",
    "            tree = ET.parse(xml_path)\n",
    "            root = tree.getroot()\n",
    "\n",
    "            # Iterate through all objects in the XML file\n",
    "            for i, obj in enumerate(root.findall('.//object')):\n",
    "                defect_type = obj.find('name').text\n",
    "                xmin = int(obj.find('bndbox/xmin').text)\n",
    "                ymin = int(obj.find('bndbox/ymin').text)\n",
    "                xmax = int(obj.find('bndbox/xmax').text)\n",
    "                ymax = int(obj.find('bndbox/ymax').text)\n",
    "\n",
    "                # Crop the region of interest from the image\n",
    "                roi = image[ymin:ymax, xmin:xmax]\n",
    "\n",
    "                # Save the original defect region\n",
    "                original_filename = f\"{image_filename}_{defect_type}_{i}_original.jpg\"\n",
    "                original_path = os.path.join(data_aug_folder, original_filename)\n",
    "                cv2.imwrite(original_path, roi)\n",
    "\n",
    "                # Perform data augmentation\n",
    "                # Rotation\n",
    "                rotated_filename = f\"{image_filename}_{defect_type}_{i}_rotated.jpg\"\n",
    "                rotated_path = os.path.join(data_aug_folder, rotated_filename)\n",
    "                rotated_roi = cv2.rotate(roi, cv2.ROTATE_90_CLOCKWISE)\n",
    "                cv2.imwrite(rotated_path, rotated_roi)\n",
    "\n",
    "                # Horizontal flipping\n",
    "                hflipped_filename = f\"{image_filename}_{defect_type}_{i}_hflipped.jpg\"\n",
    "                hflipped_path = os.path.join(data_aug_folder, hflipped_filename)\n",
    "                hflipped_roi = cv2.flip(roi, 1)\n",
    "                cv2.imwrite(hflipped_path, hflipped_roi)\n",
    "\n",
    "                # Vertical flipping\n",
    "                vflipped_filename = f\"{image_filename}_{defect_type}_{i}_vflipped.jpg\"\n",
    "                vflipped_path = os.path.join(data_aug_folder, vflipped_filename)\n",
    "                vflipped_roi = cv2.flip(roi, 0)\n",
    "                cv2.imwrite(vflipped_path, vflipped_roi)\n"
   ]
  },
  {
   "cell_type": "markdown",
   "id": "160933cb-b6eb-4902-b150-c6d6c3eec697",
   "metadata": {},
   "source": [
    "# Checking Data/Augmented Images for Each Defect"
   ]
  },
  {
   "cell_type": "code",
   "execution_count": null,
   "id": "95943feb-c705-464d-991e-50b1198404a8",
   "metadata": {},
   "outputs": [],
   "source": [
    "# Define a list of defect categories\n",
    "defect_categories = [\n",
    "    # mention the defect list\n",
    "]\n",
    "\n",
    "# Iterate through each defect category\n",
    "for category in defect_categories:\n",
    "    # Path to the folder for the current defect category\n",
    "    data_aug_folder = category\n",
    "    \n",
    "    # Count the number of augmented images\n",
    "    num_augmented_images = len([f for f in os.listdir(data_aug_folder) if f.endswith('.jpg')])\n",
    "    \n",
    "    print(f\"Defect Category: {category}\")\n",
    "    print(f\"Number of Augmented Images: {num_augmented_images}\\n\")\n"
   ]
  }
 ],
 "metadata": {
  "kernelspec": {
   "display_name": "Python 3 (ipykernel)",
   "language": "python",
   "name": "python3"
  },
  "language_info": {
   "codemirror_mode": {
    "name": "ipython",
    "version": 3
   },
   "file_extension": ".py",
   "mimetype": "text/x-python",
   "name": "python",
   "nbconvert_exporter": "python",
   "pygments_lexer": "ipython3",
   "version": "3.12.1"
  }
 },
 "nbformat": 4,
 "nbformat_minor": 5
}
